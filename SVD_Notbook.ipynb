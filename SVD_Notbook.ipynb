{
  "nbformat": 4,
  "nbformat_minor": 0,
  "metadata": {
    "colab": {
      "name": "SVD Notbook.ipynb",
      "provenance": [],
      "authorship_tag": "ABX9TyPeVIvB/4qXtrPs6Cowllkj",
      "include_colab_link": true
    },
    "kernelspec": {
      "name": "python3",
      "display_name": "Python 3"
    },
    "language_info": {
      "name": "python"
    }
  },
  "cells": [
    {
      "cell_type": "markdown",
      "metadata": {
        "id": "view-in-github",
        "colab_type": "text"
      },
      "source": [
        "<a href=\"https://colab.research.google.com/github/jalalbamniya/DataSet/blob/main/SVD_Notbook.ipynb\" target=\"_parent\"><img src=\"https://colab.research.google.com/assets/colab-badge.svg\" alt=\"Open In Colab\"/></a>"
      ]
    },
    {
      "cell_type": "markdown",
      "source": [
        "# **Singular Value Decomposition(SVD) in python**\n",
        "\n",
        "$\\textbf{Mandatory Key steps:}$\n",
        "\n",
        "1. Loading the data set.\n",
        "2. Use TruncatedSVD function in scikit learn to apply SVD for dimensionality reduction\n",
        "3. Set the value of rank as a parameter for TruncatedSVD\n",
        "4. Fit and transform the data set \n",
        "\n",
        "$\\textbf{Optional steps}$\n",
        "\n",
        "1. Investigate U, $\\Sigma$ and V matrices\n",
        "2. Finding the best rank for the given data set using Frobenius Norm"
      ],
      "metadata": {
        "id": "ffeB5zMEPQEu"
      }
    },
    {
      "cell_type": "markdown",
      "source": [
        "# Loading libraries and data set\n",
        "\n",
        "https://numpy.org/doc/stable/reference/generated/numpy.linalg.svd.html"
      ],
      "metadata": {
        "id": "0haCCAkjPZwV"
      }
    },
    {
      "cell_type": "code",
      "execution_count": null,
      "metadata": {
        "colab": {
          "base_uri": "https://localhost:8080/"
        },
        "id": "BoA6XnvNO7Wc",
        "outputId": "afc0da5a-3024-4b48-dae7-f09bb3e2a300"
      },
      "outputs": [
        {
          "output_type": "stream",
          "name": "stdout",
          "text": [
            "     Serial No.  GRE Score  TOEFL Score  University Rating  SOP  LOR   CGPA  \\\n",
            "0             1        337          118                  4  4.5   4.5  9.65   \n",
            "1             2        324          107                  4  4.0   4.5  8.87   \n",
            "2             3        316          104                  3  3.0   3.5  8.00   \n",
            "3             4        322          110                  3  3.5   2.5  8.67   \n",
            "4             5        314          103                  2  2.0   3.0  8.21   \n",
            "..          ...        ...          ...                ...  ...   ...   ...   \n",
            "395         396        324          110                  3  3.5   3.5  9.04   \n",
            "396         397        325          107                  3  3.0   3.5  9.11   \n",
            "397         398        330          116                  4  5.0   4.5  9.45   \n",
            "398         399        312          103                  3  3.5   4.0  8.78   \n",
            "399         400        333          117                  4  5.0   4.0  9.66   \n",
            "\n",
            "     Research  Chance of Admit   \n",
            "0           1              0.92  \n",
            "1           1              0.76  \n",
            "2           1              0.72  \n",
            "3           1              0.80  \n",
            "4           0              0.65  \n",
            "..        ...               ...  \n",
            "395         1              0.82  \n",
            "396         1              0.84  \n",
            "397         1              0.91  \n",
            "398         0              0.67  \n",
            "399         1              0.95  \n",
            "\n",
            "[400 rows x 9 columns]\n",
            "[[  1.   337.   118.   ...   9.65   1.     0.92]\n",
            " [  2.   324.   107.   ...   8.87   1.     0.76]\n",
            " [  3.   316.   104.   ...   8.     1.     0.72]\n",
            " ...\n",
            " [398.   330.   116.   ...   9.45   1.     0.91]\n",
            " [399.   312.   103.   ...   8.78   0.     0.67]\n",
            " [400.   333.   117.   ...   9.66   1.     0.95]]\n"
          ]
        }
      ],
      "source": [
        "import pandas as pd # read the csv file\n",
        "from numpy import diag #\n",
        "import numpy as np\n",
        "from sklearn.decomposition import TruncatedSVD\n",
        "ds = pd.read_csv('/content/Admission_Predict.csv')\n",
        "print(ds)\n",
        "data_old =ds.values\n",
        "print(data_old)"
      ]
    },
    {
      "cell_type": "markdown",
      "source": [
        "Calling TruncatedSVD function from scikit learn and fitting, transforming the data set into desired number of dimensions controlled  by parameter n_components of TruncatedSVD function \n",
        "\n",
        "https://scikit-learn.org/stable/modules/generated/sklearn.decomposition.TruncatedSVD.html#"
      ],
      "metadata": {
        "id": "-slVdrNXQLoF"
      }
    },
    {
      "cell_type": "code",
      "source": [
        "svd = TruncatedSVD(n_components =8)\n",
        "result= svd.fit_transform(data_old)\n",
        "print(result)"
      ],
      "metadata": {
        "colab": {
          "base_uri": "https://localhost:8080/"
        },
        "id": "w2kHhsY0QOxF",
        "outputId": "59abcfe7-bb66-4c55-e861-a7e1b133e455"
      },
      "execution_count": null,
      "outputs": [
        {
          "output_type": "stream",
          "name": "stdout",
          "text": [
            "[[ 2.99567949e+02  1.94672749e+02  2.58029147e+00 ... -7.79730248e-02\n",
            "  -2.52561050e-01 -2.64569107e-01]\n",
            " [ 2.86839754e+02  1.85119960e+02 -3.46393735e+00 ... -3.56596480e-01\n",
            "  -2.61456288e-01 -1.27591746e-02]\n",
            " [ 2.80199116e+02  1.79577619e+02 -4.07474027e+00 ... -2.55370682e-01\n",
            "  -4.99107594e-01  3.82067129e-01]\n",
            " ...\n",
            " [ 5.10723062e+02 -1.41583093e+02  5.18241633e+00 ...  4.09442706e-01\n",
            "  -1.13633774e-01  1.09939702e-03]\n",
            " [ 4.93476512e+02 -1.54096296e+02 -1.45204456e+00 ... -2.60811161e-01\n",
            "   5.52617089e-01 -2.51317659e-01]\n",
            " [ 5.14463263e+02 -1.41528079e+02  5.11638697e+00 ...  7.34422494e-01\n",
            "  -9.79552666e-02 -1.86170680e-01]]\n"
          ]
        }
      ]
    },
    {
      "cell_type": "markdown",
      "source": [
        "In SVD the data set D  is decomposed into three matrices namely U,$\\Sigma$ and V, i.e.,\n",
        "\n",
        "$\\begin{equation}\n",
        "D= U \\Sigma V^{T}\n",
        "\\end{equation}$\n",
        "\n",
        "- The result of fit and transform functions under TruncatedSVD  is $\\textbf{U $\\Sigma$}$. The dot product of $\\textbf{U $\\Sigma$}$ gives us the new data point to be projected along vectors given by V.\n",
        "\n",
        "- In order to find  $\\Sigma$, $\\textbf{singular_values_}$ under TruncatedSVD is used. \n",
        "\n",
        "- Matrix $\\textbf{V_T}$ is obtained by using $\\textbf{components_}$ function\n",
        "\n",
        "- To obtain U, we can divide transformed data by values obtained by singular_values_"
      ],
      "metadata": {
        "id": "Br-_ulcco9Ql"
      }
    },
    {
      "cell_type": "code",
      "source": [
        "sigma = svd.singular_values_\n",
        "v = svd.components_\n",
        "u = result/svd.singular_values_\n",
        "\n",
        "print(sigma.shape)\n",
        "print(v.shape)\n",
        "print(u.shape)\n",
        "print(sigma)\n",
        "print(v)\n",
        "print(u)\n"
      ],
      "metadata": {
        "colab": {
          "base_uri": "https://localhost:8080/"
        },
        "id": "ZX_Xad1wT9mC",
        "outputId": "94947a8b-e739-4edc-a18e-d51e2f3b10dc"
      },
      "execution_count": null,
      "outputs": [
        {
          "output_type": "stream",
          "name": "stdout",
          "text": [
            "(8,)\n",
            "(8, 9)\n",
            "(400, 8)\n",
            "[7.89777483e+03 1.97646590e+03 6.74311708e+01 2.53513624e+01\n",
            " 1.19636809e+01 9.66880450e+00 8.65617085e+00 5.11325904e+00]\n",
            "[[ 5.47200459e-01  7.92334707e-01  2.68520912e-01  7.69309514e-03\n",
            "   8.47496126e-03  8.63378351e-03  2.15204537e-02  1.37543970e-03\n",
            "   1.82117703e-03]\n",
            " [-8.36982837e-01  5.16043161e-01  1.81120679e-01  7.31909367e-03\n",
            "   7.44453765e-03  6.56134504e-03  1.41144361e-02  1.37287927e-03\n",
            "   1.15876859e-03]\n",
            " [ 5.39453534e-03 -3.20543160e-01  9.18666067e-01  1.52822304e-01\n",
            "   1.30512608e-01  9.24170559e-02  5.52106891e-02  3.06269483e-02\n",
            "   1.89815508e-02]\n",
            " [-1.34340610e-03 -5.35496893e-02  2.23543022e-01 -6.19652867e-01\n",
            "  -5.35087606e-01 -4.77393191e-01 -1.45178837e-01 -1.58534847e-01\n",
            "  -5.25001987e-02]\n",
            " [ 3.47844296e-04  7.08187552e-03 -1.23239968e-02  7.34030720e-01\n",
            "  -3.59109254e-01 -5.73201504e-01 -1.09170336e-02  5.77587080e-02\n",
            "   4.69859017e-03]\n",
            " [ 3.34094668e-04  5.05578437e-03 -1.23794949e-02 -1.65711623e-01\n",
            "   7.24721666e-01 -6.49969032e-01 -1.48177719e-02  1.56153084e-01\n",
            "  -8.72608730e-03]\n",
            " [ 9.47750511e-05  2.45842468e-03 -7.57106768e-03  1.30693968e-01\n",
            "   1.92058671e-01 -5.02409638e-02 -3.37637240e-02 -9.68951559e-01\n",
            "  -5.86337118e-02]\n",
            " [ 4.70979977e-04  1.40912768e-02  2.82359389e-02  9.34635776e-02\n",
            "   7.37929231e-02  9.70740711e-02 -9.78695690e-01  6.31660156e-02\n",
            "  -1.16466883e-01]]\n",
            "[[ 0.03793068  0.09849537  0.03826556 ... -0.00806439 -0.02917699\n",
            "  -0.05174178]\n",
            " [ 0.03631906  0.09366211 -0.05136997 ... -0.03688113 -0.03020461\n",
            "  -0.00249531]\n",
            " [ 0.03547824  0.09085794 -0.06042814 ... -0.02641182 -0.05765917\n",
            "   0.07472086]\n",
            " ...\n",
            " [ 0.0646667  -0.07163447  0.07685491 ...  0.04234678 -0.01312749\n",
            "   0.00021501]\n",
            " [ 0.06248298 -0.07796557 -0.02153373 ... -0.0269745   0.06384083\n",
            "  -0.04915019]\n",
            " [ 0.06514028 -0.07160664  0.0758757  ...  0.07595794 -0.01131624\n",
            "  -0.0364094 ]]\n"
          ]
        }
      ]
    },
    {
      "cell_type": "markdown",
      "source": [
        "# Testing if the dot product of U, Σ and V gives the original data set"
      ],
      "metadata": {
        "id": "w2RdyYt1UJxq"
      }
    },
    {
      "cell_type": "code",
      "source": [
        "s= diag(svd.singular_values_)\n",
        "data_new = np.dot(result, v)\n",
        "data_new = np.round(data_new,2)\n",
        "print(data_new)\n",
        "print(data_old)"
      ],
      "metadata": {
        "colab": {
          "base_uri": "https://localhost:8080/"
        },
        "id": "RH6Xi3WiUGvS",
        "outputId": "868db3d6-dd94-45f0-d4e4-e51238d54ff5"
      },
      "execution_count": null,
      "outputs": [
        {
          "output_type": "stream",
          "name": "stdout",
          "text": [
            "[[  1.   337.   118.   ...   9.65   1.     0.88]\n",
            " [  2.   324.   107.   ...   8.87   1.     0.78]\n",
            " [  3.   316.   104.   ...   8.01   1.     0.64]\n",
            " ...\n",
            " [398.   330.   116.   ...   9.45   1.     0.93]\n",
            " [399.   312.   103.   ...   8.77  -0.     0.75]\n",
            " [400.   333.   117.   ...   9.66   1.     0.94]]\n",
            "[[  1.   337.   118.   ...   9.65   1.     0.92]\n",
            " [  2.   324.   107.   ...   8.87   1.     0.76]\n",
            " [  3.   316.   104.   ...   8.     1.     0.72]\n",
            " ...\n",
            " [398.   330.   116.   ...   9.45   1.     0.91]\n",
            " [399.   312.   103.   ...   8.78   0.     0.67]\n",
            " [400.   333.   117.   ...   9.66   1.     0.95]]\n"
          ]
        }
      ]
    },
    {
      "cell_type": "markdown",
      "source": [
        "Finding the best rank for the given data set using  Frobenius Norm. The Frobenius Norm has to be small\n",
        "\n",
        "$\\begin{equation}\n",
        "\\mid (A - B)_F \\mid = \\sqrt{\\sum_{ij} (A_{ij} - B_{ij})^2}\n",
        "\\end{equation}$\n",
        "\n",
        "Where A and B represents old and new data set respectively"
      ],
      "metadata": {
        "id": "T-YJmG-fUbrK"
      }
    },
    {
      "cell_type": "code",
      "source": [
        "data_diff = np.subtract(data_old, data_new)\n",
        "data_squarediff = np.square(data_diff)\n",
        "print('Frobenius Norm = ', np.sqrt(data_squarediff.sum()))"
      ],
      "metadata": {
        "colab": {
          "base_uri": "https://localhost:8080/"
        },
        "id": "-cIejb-LUTIi",
        "outputId": "f2cdd9e7-ea69-4413-9093-119374e60884"
      },
      "execution_count": null,
      "outputs": [
        {
          "output_type": "stream",
          "name": "stdout",
          "text": [
            "Frobenius Norm =  1.370547335920945\n"
          ]
        }
      ]
    }
  ]
}